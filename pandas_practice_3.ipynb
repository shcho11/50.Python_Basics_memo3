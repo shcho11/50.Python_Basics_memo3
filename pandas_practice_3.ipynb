{
  "cells": [
    {
      "cell_type": "markdown",
      "metadata": {
        "id": "view-in-github",
        "colab_type": "text"
      },
      "source": [
        "<a href=\"https://colab.research.google.com/github/shcho11/Python_Basics_memo3/blob/main/pandas_practice_3.ipynb\" target=\"_parent\"><img src=\"https://colab.research.google.com/assets/colab-badge.svg\" alt=\"Open In Colab\"/></a>"
      ]
    },
    {
      "cell_type": "code",
      "execution_count": null,
      "metadata": {
        "collapsed": true,
        "id": "pAukZuRAILOS"
      },
      "outputs": [],
      "source": [
        "import numpy as np\n",
        "import pandas as pd"
      ]
    },
    {
      "cell_type": "code",
      "execution_count": null,
      "metadata": {
        "collapsed": true,
        "id": "oOGWZHBnILOV"
      },
      "outputs": [],
      "source": [
        "data = [[9.9, 8.8], [np.nan, 6.6],[7.7, np.nan],  [0.99, 9.8]]\n",
        "df = pd.DataFrame(data, columns=[\"first\", \"second\"], index=[\"a\", \"b\", \"c\", \"d\"])"
      ]
    },
    {
      "cell_type": "code",
      "execution_count": null,
      "metadata": {
        "id": "mHl7qJQrILOW",
        "outputId": "aa00a583-3bc8-44f9-e733-9fcd6c0da5fc"
      },
      "outputs": [
        {
          "data": {
            "text/html": [
              "<div>\n",
              "<style scoped>\n",
              "    .dataframe tbody tr th:only-of-type {\n",
              "        vertical-align: middle;\n",
              "    }\n",
              "\n",
              "    .dataframe tbody tr th {\n",
              "        vertical-align: top;\n",
              "    }\n",
              "\n",
              "    .dataframe thead th {\n",
              "        text-align: right;\n",
              "    }\n",
              "</style>\n",
              "<table border=\"1\" class=\"dataframe\">\n",
              "  <thead>\n",
              "    <tr style=\"text-align: right;\">\n",
              "      <th></th>\n",
              "      <th>first</th>\n",
              "      <th>second</th>\n",
              "    </tr>\n",
              "  </thead>\n",
              "  <tbody>\n",
              "    <tr>\n",
              "      <th>a</th>\n",
              "      <td>9.90</td>\n",
              "      <td>8.8</td>\n",
              "    </tr>\n",
              "    <tr>\n",
              "      <th>b</th>\n",
              "      <td>NaN</td>\n",
              "      <td>6.6</td>\n",
              "    </tr>\n",
              "    <tr>\n",
              "      <th>c</th>\n",
              "      <td>7.70</td>\n",
              "      <td>NaN</td>\n",
              "    </tr>\n",
              "    <tr>\n",
              "      <th>d</th>\n",
              "      <td>0.99</td>\n",
              "      <td>9.8</td>\n",
              "    </tr>\n",
              "  </tbody>\n",
              "</table>\n",
              "</div>"
            ],
            "text/plain": [
              "   first  second\n",
              "a   9.90     8.8\n",
              "b    NaN     6.6\n",
              "c   7.70     NaN\n",
              "d   0.99     9.8"
            ]
          },
          "execution_count": 3,
          "metadata": {},
          "output_type": "execute_result"
        }
      ],
      "source": [
        "df"
      ]
    },
    {
      "cell_type": "code",
      "execution_count": null,
      "metadata": {
        "id": "uvpEBCB5ILOX",
        "outputId": "7262322e-6fa5-463f-fd73-c0bd6eaa3903"
      },
      "outputs": [
        {
          "data": {
            "text/plain": [
              "first     18.59\n",
              "second    25.20\n",
              "dtype: float64"
            ]
          },
          "execution_count": 4,
          "metadata": {},
          "output_type": "execute_result"
        }
      ],
      "source": [
        "df.sum(axis=0)"
      ]
    },
    {
      "cell_type": "code",
      "execution_count": null,
      "metadata": {
        "id": "FgVbdJVzILOX",
        "outputId": "a04b242d-d671-446a-ebbb-6a4376b86c60"
      },
      "outputs": [
        {
          "data": {
            "text/plain": [
              "6.196666666666666"
            ]
          },
          "execution_count": 7,
          "metadata": {},
          "output_type": "execute_result"
        }
      ],
      "source": [
        "df['first'].mean()"
      ]
    },
    {
      "cell_type": "code",
      "execution_count": null,
      "metadata": {
        "id": "MoRfJVsOILOY",
        "outputId": "e1b773d2-be87-46f4-fc54-da681b73c645"
      },
      "outputs": [
        {
          "data": {
            "text/plain": [
              "18.700000000000003"
            ]
          },
          "execution_count": 9,
          "metadata": {},
          "output_type": "execute_result"
        }
      ],
      "source": [
        "df.loc['a'].sum()"
      ]
    },
    {
      "cell_type": "code",
      "execution_count": null,
      "metadata": {
        "id": "zT1rBh2dILOY",
        "outputId": "60510f2d-9f84-459f-fac3-ed622ce18536"
      },
      "outputs": [
        {
          "data": {
            "text/html": [
              "<div>\n",
              "<style scoped>\n",
              "    .dataframe tbody tr th:only-of-type {\n",
              "        vertical-align: middle;\n",
              "    }\n",
              "\n",
              "    .dataframe tbody tr th {\n",
              "        vertical-align: top;\n",
              "    }\n",
              "\n",
              "    .dataframe thead th {\n",
              "        text-align: right;\n",
              "    }\n",
              "</style>\n",
              "<table border=\"1\" class=\"dataframe\">\n",
              "  <thead>\n",
              "    <tr style=\"text-align: right;\">\n",
              "      <th></th>\n",
              "      <th>first</th>\n",
              "      <th>second</th>\n",
              "    </tr>\n",
              "  </thead>\n",
              "  <tbody>\n",
              "    <tr>\n",
              "      <th>a</th>\n",
              "      <td>9.90</td>\n",
              "      <td>8.8</td>\n",
              "    </tr>\n",
              "    <tr>\n",
              "      <th>b</th>\n",
              "      <td>NaN</td>\n",
              "      <td>6.6</td>\n",
              "    </tr>\n",
              "    <tr>\n",
              "      <th>c</th>\n",
              "      <td>7.70</td>\n",
              "      <td>NaN</td>\n",
              "    </tr>\n",
              "    <tr>\n",
              "      <th>d</th>\n",
              "      <td>0.99</td>\n",
              "      <td>9.8</td>\n",
              "    </tr>\n",
              "  </tbody>\n",
              "</table>\n",
              "</div>"
            ],
            "text/plain": [
              "   first  second\n",
              "a   9.90     8.8\n",
              "b    NaN     6.6\n",
              "c   7.70     NaN\n",
              "d   0.99     9.8"
            ]
          },
          "execution_count": 10,
          "metadata": {},
          "output_type": "execute_result"
        }
      ],
      "source": [
        "df"
      ]
    },
    {
      "cell_type": "code",
      "execution_count": null,
      "metadata": {
        "id": "WhN45WE4ILOZ",
        "outputId": "89bb5872-ceb9-4986-ef11-9cbb0641cbb8"
      },
      "outputs": [
        {
          "data": {
            "text/plain": [
              "6.196666666666666"
            ]
          },
          "execution_count": 12,
          "metadata": {},
          "output_type": "execute_result"
        }
      ],
      "source": [
        "first_mean = df['first'].mean()\n",
        "first_mean"
      ]
    },
    {
      "cell_type": "code",
      "execution_count": null,
      "metadata": {
        "id": "wjeFyYMsILOa",
        "outputId": "7bf3b5ef-6687-4569-c6cb-106fc7396eb1"
      },
      "outputs": [
        {
          "data": {
            "text/plain": [
              "6.6"
            ]
          },
          "execution_count": 13,
          "metadata": {},
          "output_type": "execute_result"
        }
      ],
      "source": [
        "second_min = df['second'].min()\n",
        "second_min"
      ]
    },
    {
      "cell_type": "code",
      "execution_count": null,
      "metadata": {
        "collapsed": true,
        "id": "nE91Icv5ILOb"
      },
      "outputs": [],
      "source": [
        "df['first'] = df['first'].fillna(value=first_mean)\n",
        "df['second'] = df['second'].fillna(value=second_min)"
      ]
    },
    {
      "cell_type": "code",
      "execution_count": null,
      "metadata": {
        "id": "GODxOE9OILOc",
        "outputId": "024401e4-ffca-45a5-e4c9-cb22d1dd6322"
      },
      "outputs": [
        {
          "data": {
            "text/html": [
              "<div>\n",
              "<style scoped>\n",
              "    .dataframe tbody tr th:only-of-type {\n",
              "        vertical-align: middle;\n",
              "    }\n",
              "\n",
              "    .dataframe tbody tr th {\n",
              "        vertical-align: top;\n",
              "    }\n",
              "\n",
              "    .dataframe thead th {\n",
              "        text-align: right;\n",
              "    }\n",
              "</style>\n",
              "<table border=\"1\" class=\"dataframe\">\n",
              "  <thead>\n",
              "    <tr style=\"text-align: right;\">\n",
              "      <th></th>\n",
              "      <th>first</th>\n",
              "      <th>second</th>\n",
              "    </tr>\n",
              "  </thead>\n",
              "  <tbody>\n",
              "    <tr>\n",
              "      <th>a</th>\n",
              "      <td>9.900000</td>\n",
              "      <td>8.8</td>\n",
              "    </tr>\n",
              "    <tr>\n",
              "      <th>b</th>\n",
              "      <td>6.196667</td>\n",
              "      <td>6.6</td>\n",
              "    </tr>\n",
              "    <tr>\n",
              "      <th>c</th>\n",
              "      <td>7.700000</td>\n",
              "      <td>6.6</td>\n",
              "    </tr>\n",
              "    <tr>\n",
              "      <th>d</th>\n",
              "      <td>0.990000</td>\n",
              "      <td>9.8</td>\n",
              "    </tr>\n",
              "  </tbody>\n",
              "</table>\n",
              "</div>"
            ],
            "text/plain": [
              "      first  second\n",
              "a  9.900000     8.8\n",
              "b  6.196667     6.6\n",
              "c  7.700000     6.6\n",
              "d  0.990000     9.8"
            ]
          },
          "execution_count": 15,
          "metadata": {},
          "output_type": "execute_result"
        }
      ],
      "source": [
        "df"
      ]
    },
    {
      "cell_type": "code",
      "execution_count": null,
      "metadata": {
        "id": "ehoYRx5YILOc",
        "outputId": "b132ab51-5eee-4b22-ec67-25362af8c2a4"
      },
      "outputs": [
        {
          "data": {
            "text/html": [
              "<div>\n",
              "<style scoped>\n",
              "    .dataframe tbody tr th:only-of-type {\n",
              "        vertical-align: middle;\n",
              "    }\n",
              "\n",
              "    .dataframe tbody tr th {\n",
              "        vertical-align: top;\n",
              "    }\n",
              "\n",
              "    .dataframe thead th {\n",
              "        text-align: right;\n",
              "    }\n",
              "</style>\n",
              "<table border=\"1\" class=\"dataframe\">\n",
              "  <thead>\n",
              "    <tr style=\"text-align: right;\">\n",
              "      <th></th>\n",
              "      <th>A</th>\n",
              "      <th>B</th>\n",
              "      <th>C</th>\n",
              "      <th>D</th>\n",
              "    </tr>\n",
              "  </thead>\n",
              "  <tbody>\n",
              "    <tr>\n",
              "      <th>2022-05-01</th>\n",
              "      <td>0.237088</td>\n",
              "      <td>0.212618</td>\n",
              "      <td>-0.794336</td>\n",
              "      <td>-0.573887</td>\n",
              "    </tr>\n",
              "    <tr>\n",
              "      <th>2022-05-02</th>\n",
              "      <td>-0.296808</td>\n",
              "      <td>-0.744179</td>\n",
              "      <td>1.463552</td>\n",
              "      <td>-0.742103</td>\n",
              "    </tr>\n",
              "    <tr>\n",
              "      <th>2022-05-03</th>\n",
              "      <td>-0.783162</td>\n",
              "      <td>0.018967</td>\n",
              "      <td>-0.716888</td>\n",
              "      <td>0.511524</td>\n",
              "    </tr>\n",
              "    <tr>\n",
              "      <th>2022-05-04</th>\n",
              "      <td>-1.342591</td>\n",
              "      <td>1.666754</td>\n",
              "      <td>-0.864254</td>\n",
              "      <td>1.326088</td>\n",
              "    </tr>\n",
              "    <tr>\n",
              "      <th>2022-05-05</th>\n",
              "      <td>1.686396</td>\n",
              "      <td>1.218381</td>\n",
              "      <td>0.553293</td>\n",
              "      <td>-0.327656</td>\n",
              "    </tr>\n",
              "    <tr>\n",
              "      <th>2022-05-06</th>\n",
              "      <td>-0.801593</td>\n",
              "      <td>0.829621</td>\n",
              "      <td>-0.438421</td>\n",
              "      <td>-0.217137</td>\n",
              "    </tr>\n",
              "  </tbody>\n",
              "</table>\n",
              "</div>"
            ],
            "text/plain": [
              "                   A         B         C         D\n",
              "2022-05-01  0.237088  0.212618 -0.794336 -0.573887\n",
              "2022-05-02 -0.296808 -0.744179  1.463552 -0.742103\n",
              "2022-05-03 -0.783162  0.018967 -0.716888  0.511524\n",
              "2022-05-04 -1.342591  1.666754 -0.864254  1.326088\n",
              "2022-05-05  1.686396  1.218381  0.553293 -0.327656\n",
              "2022-05-06 -0.801593  0.829621 -0.438421 -0.217137"
            ]
          },
          "execution_count": 18,
          "metadata": {},
          "output_type": "execute_result"
        }
      ],
      "source": [
        "df2= pd.DataFrame(np.random.randn(6,4),\n",
        "                  columns=['A','B','C','D'],\n",
        "                  index=pd.date_range('20220501', periods=6))\n",
        "df2"
      ]
    },
    {
      "cell_type": "code",
      "execution_count": null,
      "metadata": {
        "id": "rgVG7enTILOd",
        "outputId": "e08ef7b4-7dc9-4e91-e4d3-e8c280c6975b"
      },
      "outputs": [
        {
          "data": {
            "text/plain": [
              "0.02177759955076149"
            ]
          },
          "execution_count": 19,
          "metadata": {},
          "output_type": "execute_result"
        }
      ],
      "source": [
        "df2['A'].corr(df2['B'])"
      ]
    },
    {
      "cell_type": "code",
      "execution_count": null,
      "metadata": {
        "id": "oafiuWo9ILOe",
        "outputId": "80bcda58-34f5-4953-b92a-38630f53efb7"
      },
      "outputs": [
        {
          "data": {
            "text/html": [
              "<div>\n",
              "<style scoped>\n",
              "    .dataframe tbody tr th:only-of-type {\n",
              "        vertical-align: middle;\n",
              "    }\n",
              "\n",
              "    .dataframe tbody tr th {\n",
              "        vertical-align: top;\n",
              "    }\n",
              "\n",
              "    .dataframe thead th {\n",
              "        text-align: right;\n",
              "    }\n",
              "</style>\n",
              "<table border=\"1\" class=\"dataframe\">\n",
              "  <thead>\n",
              "    <tr style=\"text-align: right;\">\n",
              "      <th></th>\n",
              "      <th>A</th>\n",
              "      <th>B</th>\n",
              "      <th>C</th>\n",
              "      <th>D</th>\n",
              "    </tr>\n",
              "  </thead>\n",
              "  <tbody>\n",
              "    <tr>\n",
              "      <th>A</th>\n",
              "      <td>1.000000</td>\n",
              "      <td>0.021778</td>\n",
              "      <td>0.437660</td>\n",
              "      <td>-0.591070</td>\n",
              "    </tr>\n",
              "    <tr>\n",
              "      <th>B</th>\n",
              "      <td>0.021778</td>\n",
              "      <td>1.000000</td>\n",
              "      <td>-0.479304</td>\n",
              "      <td>0.608165</td>\n",
              "    </tr>\n",
              "    <tr>\n",
              "      <th>C</th>\n",
              "      <td>0.437660</td>\n",
              "      <td>-0.479304</td>\n",
              "      <td>1.000000</td>\n",
              "      <td>-0.607062</td>\n",
              "    </tr>\n",
              "    <tr>\n",
              "      <th>D</th>\n",
              "      <td>-0.591070</td>\n",
              "      <td>0.608165</td>\n",
              "      <td>-0.607062</td>\n",
              "      <td>1.000000</td>\n",
              "    </tr>\n",
              "  </tbody>\n",
              "</table>\n",
              "</div>"
            ],
            "text/plain": [
              "          A         B         C         D\n",
              "A  1.000000  0.021778  0.437660 -0.591070\n",
              "B  0.021778  1.000000 -0.479304  0.608165\n",
              "C  0.437660 -0.479304  1.000000 -0.607062\n",
              "D -0.591070  0.608165 -0.607062  1.000000"
            ]
          },
          "execution_count": 20,
          "metadata": {},
          "output_type": "execute_result"
        }
      ],
      "source": [
        "df2.corr()"
      ]
    },
    {
      "cell_type": "code",
      "execution_count": null,
      "metadata": {
        "id": "k8FABbHkILOe",
        "outputId": "b18a5daa-2610-43f5-c7b1-86f7e28d6efd"
      },
      "outputs": [
        {
          "data": {
            "text/html": [
              "<div>\n",
              "<style scoped>\n",
              "    .dataframe tbody tr th:only-of-type {\n",
              "        vertical-align: middle;\n",
              "    }\n",
              "\n",
              "    .dataframe tbody tr th {\n",
              "        vertical-align: top;\n",
              "    }\n",
              "\n",
              "    .dataframe thead th {\n",
              "        text-align: right;\n",
              "    }\n",
              "</style>\n",
              "<table border=\"1\" class=\"dataframe\">\n",
              "  <thead>\n",
              "    <tr style=\"text-align: right;\">\n",
              "      <th></th>\n",
              "      <th>A</th>\n",
              "      <th>B</th>\n",
              "      <th>C</th>\n",
              "      <th>D</th>\n",
              "      <th>E</th>\n",
              "      <th>F</th>\n",
              "    </tr>\n",
              "  </thead>\n",
              "  <tbody>\n",
              "    <tr>\n",
              "      <th>2022-05-01</th>\n",
              "      <td>0.237088</td>\n",
              "      <td>0.212618</td>\n",
              "      <td>-0.794336</td>\n",
              "      <td>-0.573887</td>\n",
              "      <td>3</td>\n",
              "      <td>first</td>\n",
              "    </tr>\n",
              "    <tr>\n",
              "      <th>2022-05-02</th>\n",
              "      <td>-0.296808</td>\n",
              "      <td>-0.744179</td>\n",
              "      <td>1.463552</td>\n",
              "      <td>-0.742103</td>\n",
              "      <td>2</td>\n",
              "      <td>second</td>\n",
              "    </tr>\n",
              "    <tr>\n",
              "      <th>2022-05-03</th>\n",
              "      <td>-0.783162</td>\n",
              "      <td>0.018967</td>\n",
              "      <td>-0.716888</td>\n",
              "      <td>0.511524</td>\n",
              "      <td>3</td>\n",
              "      <td>first</td>\n",
              "    </tr>\n",
              "    <tr>\n",
              "      <th>2022-05-04</th>\n",
              "      <td>-1.342591</td>\n",
              "      <td>1.666754</td>\n",
              "      <td>-0.864254</td>\n",
              "      <td>1.326088</td>\n",
              "      <td>2</td>\n",
              "      <td>third</td>\n",
              "    </tr>\n",
              "    <tr>\n",
              "      <th>2022-05-05</th>\n",
              "      <td>1.686396</td>\n",
              "      <td>1.218381</td>\n",
              "      <td>0.553293</td>\n",
              "      <td>-0.327656</td>\n",
              "      <td>5</td>\n",
              "      <td>second</td>\n",
              "    </tr>\n",
              "    <tr>\n",
              "      <th>2022-05-06</th>\n",
              "      <td>-0.801593</td>\n",
              "      <td>0.829621</td>\n",
              "      <td>-0.438421</td>\n",
              "      <td>-0.217137</td>\n",
              "      <td>2</td>\n",
              "      <td>first</td>\n",
              "    </tr>\n",
              "  </tbody>\n",
              "</table>\n",
              "</div>"
            ],
            "text/plain": [
              "                   A         B         C         D  E       F\n",
              "2022-05-01  0.237088  0.212618 -0.794336 -0.573887  3   first\n",
              "2022-05-02 -0.296808 -0.744179  1.463552 -0.742103  2  second\n",
              "2022-05-03 -0.783162  0.018967 -0.716888  0.511524  3   first\n",
              "2022-05-04 -1.342591  1.666754 -0.864254  1.326088  2   third\n",
              "2022-05-05  1.686396  1.218381  0.553293 -0.327656  5  second\n",
              "2022-05-06 -0.801593  0.829621 -0.438421 -0.217137  2   first"
            ]
          },
          "execution_count": 21,
          "metadata": {},
          "output_type": "execute_result"
        }
      ],
      "source": [
        "df2['E'] = np.random.randint(0,6,size=6)\n",
        "df2['F'] = ['first','second','first','third','second','first']\n",
        "df2"
      ]
    },
    {
      "cell_type": "code",
      "execution_count": null,
      "metadata": {
        "id": "sUtpEiGNILOe",
        "outputId": "95ee4869-56be-454f-8834-0bf3241acd21"
      },
      "outputs": [
        {
          "data": {
            "text/html": [
              "<div>\n",
              "<style scoped>\n",
              "    .dataframe tbody tr th:only-of-type {\n",
              "        vertical-align: middle;\n",
              "    }\n",
              "\n",
              "    .dataframe tbody tr th {\n",
              "        vertical-align: top;\n",
              "    }\n",
              "\n",
              "    .dataframe thead th {\n",
              "        text-align: right;\n",
              "    }\n",
              "</style>\n",
              "<table border=\"1\" class=\"dataframe\">\n",
              "  <thead>\n",
              "    <tr style=\"text-align: right;\">\n",
              "      <th></th>\n",
              "      <th>A</th>\n",
              "      <th>B</th>\n",
              "      <th>C</th>\n",
              "      <th>D</th>\n",
              "      <th>E</th>\n",
              "      <th>F</th>\n",
              "    </tr>\n",
              "  </thead>\n",
              "  <tbody>\n",
              "    <tr>\n",
              "      <th>2022-05-06</th>\n",
              "      <td>-0.801593</td>\n",
              "      <td>0.829621</td>\n",
              "      <td>-0.438421</td>\n",
              "      <td>-0.217137</td>\n",
              "      <td>2</td>\n",
              "      <td>first</td>\n",
              "    </tr>\n",
              "    <tr>\n",
              "      <th>2022-05-02</th>\n",
              "      <td>-0.296808</td>\n",
              "      <td>-0.744179</td>\n",
              "      <td>1.463552</td>\n",
              "      <td>-0.742103</td>\n",
              "      <td>2</td>\n",
              "      <td>second</td>\n",
              "    </tr>\n",
              "    <tr>\n",
              "      <th>2022-05-04</th>\n",
              "      <td>-1.342591</td>\n",
              "      <td>1.666754</td>\n",
              "      <td>-0.864254</td>\n",
              "      <td>1.326088</td>\n",
              "      <td>2</td>\n",
              "      <td>third</td>\n",
              "    </tr>\n",
              "    <tr>\n",
              "      <th>2022-05-01</th>\n",
              "      <td>0.237088</td>\n",
              "      <td>0.212618</td>\n",
              "      <td>-0.794336</td>\n",
              "      <td>-0.573887</td>\n",
              "      <td>3</td>\n",
              "      <td>first</td>\n",
              "    </tr>\n",
              "    <tr>\n",
              "      <th>2022-05-03</th>\n",
              "      <td>-0.783162</td>\n",
              "      <td>0.018967</td>\n",
              "      <td>-0.716888</td>\n",
              "      <td>0.511524</td>\n",
              "      <td>3</td>\n",
              "      <td>first</td>\n",
              "    </tr>\n",
              "    <tr>\n",
              "      <th>2022-05-05</th>\n",
              "      <td>1.686396</td>\n",
              "      <td>1.218381</td>\n",
              "      <td>0.553293</td>\n",
              "      <td>-0.327656</td>\n",
              "      <td>5</td>\n",
              "      <td>second</td>\n",
              "    </tr>\n",
              "  </tbody>\n",
              "</table>\n",
              "</div>"
            ],
            "text/plain": [
              "                   A         B         C         D  E       F\n",
              "2022-05-06 -0.801593  0.829621 -0.438421 -0.217137  2   first\n",
              "2022-05-02 -0.296808 -0.744179  1.463552 -0.742103  2  second\n",
              "2022-05-04 -1.342591  1.666754 -0.864254  1.326088  2   third\n",
              "2022-05-01  0.237088  0.212618 -0.794336 -0.573887  3   first\n",
              "2022-05-03 -0.783162  0.018967 -0.716888  0.511524  3   first\n",
              "2022-05-05  1.686396  1.218381  0.553293 -0.327656  5  second"
            ]
          },
          "execution_count": 23,
          "metadata": {},
          "output_type": "execute_result"
        }
      ],
      "source": [
        "df2.sort_values(by=['E','F'])"
      ]
    },
    {
      "cell_type": "code",
      "execution_count": null,
      "metadata": {
        "collapsed": true,
        "id": "2sOdUJ1aILOf"
      },
      "outputs": [],
      "source": [
        "df3 = pd.DataFrame(np.random.randn(4, 3), columns=[\"b\", \"d\", \"e\"],\n",
        "                   index=[\"Seoul\", \"Incheon\", \"Busan\", \"Daegu\"]) "
      ]
    },
    {
      "cell_type": "code",
      "execution_count": null,
      "metadata": {
        "id": "pSCVMTVCILOf",
        "outputId": "a1d4b8ef-a587-41c2-ed05-ef15f7f7650b"
      },
      "outputs": [
        {
          "data": {
            "text/html": [
              "<div>\n",
              "<style scoped>\n",
              "    .dataframe tbody tr th:only-of-type {\n",
              "        vertical-align: middle;\n",
              "    }\n",
              "\n",
              "    .dataframe tbody tr th {\n",
              "        vertical-align: top;\n",
              "    }\n",
              "\n",
              "    .dataframe thead th {\n",
              "        text-align: right;\n",
              "    }\n",
              "</style>\n",
              "<table border=\"1\" class=\"dataframe\">\n",
              "  <thead>\n",
              "    <tr style=\"text-align: right;\">\n",
              "      <th></th>\n",
              "      <th>b</th>\n",
              "      <th>d</th>\n",
              "      <th>e</th>\n",
              "    </tr>\n",
              "  </thead>\n",
              "  <tbody>\n",
              "    <tr>\n",
              "      <th>Seoul</th>\n",
              "      <td>-0.417295</td>\n",
              "      <td>1.101535</td>\n",
              "      <td>-1.045476</td>\n",
              "    </tr>\n",
              "    <tr>\n",
              "      <th>Incheon</th>\n",
              "      <td>-2.463839</td>\n",
              "      <td>-0.237181</td>\n",
              "      <td>-0.262947</td>\n",
              "    </tr>\n",
              "    <tr>\n",
              "      <th>Busan</th>\n",
              "      <td>1.072089</td>\n",
              "      <td>-0.512656</td>\n",
              "      <td>0.673375</td>\n",
              "    </tr>\n",
              "    <tr>\n",
              "      <th>Daegu</th>\n",
              "      <td>1.983395</td>\n",
              "      <td>-1.056348</td>\n",
              "      <td>-1.460389</td>\n",
              "    </tr>\n",
              "  </tbody>\n",
              "</table>\n",
              "</div>"
            ],
            "text/plain": [
              "                b         d         e\n",
              "Seoul   -0.417295  1.101535 -1.045476\n",
              "Incheon -2.463839 -0.237181 -0.262947\n",
              "Busan    1.072089 -0.512656  0.673375\n",
              "Daegu    1.983395 -1.056348 -1.460389"
            ]
          },
          "execution_count": 25,
          "metadata": {},
          "output_type": "execute_result"
        }
      ],
      "source": [
        "df3"
      ]
    },
    {
      "cell_type": "code",
      "execution_count": null,
      "metadata": {
        "collapsed": true,
        "id": "RDbwToe3ILOf"
      },
      "outputs": [],
      "source": [
        "func = lambda x : x.max() - x.min()"
      ]
    },
    {
      "cell_type": "code",
      "execution_count": null,
      "metadata": {
        "id": "k6Dap209ILOg",
        "outputId": "7861956e-831c-4893-97f9-89c3f2bd406f"
      },
      "outputs": [
        {
          "data": {
            "text/plain": [
              "b    4.447234\n",
              "d    2.157884\n",
              "e    2.133764\n",
              "dtype: float64"
            ]
          },
          "execution_count": 27,
          "metadata": {},
          "output_type": "execute_result"
        }
      ],
      "source": [
        "df3.apply(func,axis=0)"
      ]
    },
    {
      "cell_type": "code",
      "execution_count": null,
      "metadata": {
        "id": "zKHUoEKbILOg",
        "outputId": "0b55252a-6e94-4277-ab05-79f991ad54cb"
      },
      "outputs": [
        {
          "data": {
            "text/plain": [
              "Seoul      2.147012\n",
              "Incheon    2.226658\n",
              "Busan      1.584745\n",
              "Daegu      3.443784\n",
              "dtype: float64"
            ]
          },
          "execution_count": 28,
          "metadata": {},
          "output_type": "execute_result"
        }
      ],
      "source": [
        "df3.apply(func,axis=1)"
      ]
    },
    {
      "cell_type": "code",
      "execution_count": null,
      "metadata": {
        "id": "r2paVP_DILOg",
        "outputId": "0dc93e1a-13b9-4a64-9c1c-65f3bb900d30"
      },
      "outputs": [
        {
          "data": {
            "text/plain": [
              "0    1\n",
              "1    2\n",
              "2    3\n",
              "3    4\n",
              "4    5\n",
              "dtype: int64"
            ]
          },
          "execution_count": 29,
          "metadata": {},
          "output_type": "execute_result"
        }
      ],
      "source": [
        "sr = pd.Series([1,2,3,4,5])\n",
        "sr"
      ]
    },
    {
      "cell_type": "code",
      "execution_count": null,
      "metadata": {
        "id": "In3btZAXILOg",
        "outputId": "9da060f2-eeda-496d-857a-82e4688052bb"
      },
      "outputs": [
        {
          "data": {
            "text/plain": [
              "0     1\n",
              "1     3\n",
              "2     6\n",
              "3    10\n",
              "4    15\n",
              "dtype: int64"
            ]
          },
          "execution_count": 30,
          "metadata": {},
          "output_type": "execute_result"
        }
      ],
      "source": [
        "sr.cumsum()"
      ]
    },
    {
      "cell_type": "code",
      "execution_count": null,
      "metadata": {
        "id": "phqDYww5ILOh",
        "outputId": "2110d8b0-0244-4797-8e58-0176e4c0028e"
      },
      "outputs": [
        {
          "data": {
            "text/plain": [
              "0      1\n",
              "1      2\n",
              "2      6\n",
              "3     24\n",
              "4    120\n",
              "dtype: int64"
            ]
          },
          "execution_count": 31,
          "metadata": {},
          "output_type": "execute_result"
        }
      ],
      "source": [
        "sr.cumprod()"
      ]
    }
  ],
  "metadata": {
    "kernelspec": {
      "display_name": "Python 3",
      "language": "python",
      "name": "python3"
    },
    "language_info": {
      "codemirror_mode": {
        "name": "ipython",
        "version": 3
      },
      "file_extension": ".py",
      "mimetype": "text/x-python",
      "name": "python",
      "nbconvert_exporter": "python",
      "pygments_lexer": "ipython3",
      "version": "3.6.3"
    },
    "colab": {
      "name": "pandas_practice_3.ipynb",
      "provenance": [],
      "include_colab_link": true
    }
  },
  "nbformat": 4,
  "nbformat_minor": 0
}