{
  "cells": [
    {
      "cell_type": "markdown",
      "metadata": {
        "id": "view-in-github",
        "colab_type": "text"
      },
      "source": [
        "<a href=\"https://colab.research.google.com/github/shcho11/Python_Basics_memo3/blob/main/numpy_practice_2.ipynb\" target=\"_parent\"><img src=\"https://colab.research.google.com/assets/colab-badge.svg\" alt=\"Open In Colab\"/></a>"
      ]
    },
    {
      "cell_type": "markdown",
      "source": [
        "- np.random\n",
        "- np.maximum, np.minimum\n",
        "- sum\n",
        "- np.sort"
      ],
      "metadata": {
        "id": "nupTy1bTHL9m"
      }
    },
    {
      "cell_type": "code",
      "execution_count": null,
      "metadata": {
        "collapsed": true,
        "id": "Ir6ROLK0G_RV"
      },
      "outputs": [],
      "source": [
        "import numpy as np"
      ]
    },
    {
      "cell_type": "code",
      "execution_count": null,
      "metadata": {
        "collapsed": true,
        "id": "uNn-skvHG_RZ"
      },
      "outputs": [],
      "source": [
        "arr = np.arange(1,10)"
      ]
    },
    {
      "cell_type": "code",
      "execution_count": null,
      "metadata": {
        "id": "PyG3aWNeG_Ra",
        "outputId": "ac3aea12-f7f8-4424-c486-aeb8b2c021a1"
      },
      "outputs": [
        {
          "data": {
            "text/plain": [
              "array([1, 2, 3, 4, 5, 6, 7, 8, 9])"
            ]
          },
          "execution_count": 3,
          "metadata": {},
          "output_type": "execute_result"
        }
      ],
      "source": [
        "arr"
      ]
    },
    {
      "cell_type": "code",
      "execution_count": null,
      "metadata": {
        "id": "FotTjd2UG_Rb",
        "outputId": "af7ef58f-7991-4e7d-992d-56bc67ac457a"
      },
      "outputs": [
        {
          "data": {
            "text/plain": [
              "array([1.        , 1.41421356, 1.73205081, 2.        , 2.23606798,\n",
              "       2.44948974, 2.64575131, 2.82842712, 3.        ])"
            ]
          },
          "execution_count": 5,
          "metadata": {},
          "output_type": "execute_result"
        }
      ],
      "source": [
        "np.sqrt(arr)"
      ]
    },
    {
      "cell_type": "code",
      "execution_count": null,
      "metadata": {
        "id": "EkR1NqtZG_Rc",
        "outputId": "959d66bc-30bd-45d6-a53a-1d02fc0b488b"
      },
      "outputs": [
        {
          "data": {
            "text/plain": [
              "array([0.83659482, 0.43727204, 0.93161278, 0.59407009, 0.36319918,\n",
              "       0.0477836 , 0.17342884, 0.60840014, 0.2961936 , 0.88360679])"
            ]
          },
          "execution_count": 6,
          "metadata": {},
          "output_type": "execute_result"
        }
      ],
      "source": [
        "x = np.random.rand(10)\n",
        "x"
      ]
    },
    {
      "cell_type": "code",
      "execution_count": null,
      "metadata": {
        "id": "QXqHL7UHG_Rd",
        "outputId": "b07a9df1-ef56-480a-cabb-62e7f820ab13"
      },
      "outputs": [
        {
          "data": {
            "text/plain": [
              "array([0.68999746, 0.29823347, 0.40456263, 0.5447324 , 0.41230816,\n",
              "       0.96630585, 0.42519319, 0.1736493 , 0.00137678, 0.95097889])"
            ]
          },
          "execution_count": 7,
          "metadata": {},
          "output_type": "execute_result"
        }
      ],
      "source": [
        "y = np.random.rand(10)\n",
        "y"
      ]
    },
    {
      "cell_type": "code",
      "execution_count": null,
      "metadata": {
        "id": "yqClJcc7G_Rd",
        "outputId": "4cabe211-91c9-44df-9b42-8a618e1fa71b"
      },
      "outputs": [
        {
          "data": {
            "text/plain": [
              "array([0.83659482, 0.43727204, 0.93161278, 0.59407009, 0.41230816,\n",
              "       0.96630585, 0.42519319, 0.60840014, 0.2961936 , 0.95097889])"
            ]
          },
          "execution_count": 10,
          "metadata": {},
          "output_type": "execute_result"
        }
      ],
      "source": [
        "np.maximum(x,y)"
      ]
    },
    {
      "cell_type": "code",
      "execution_count": null,
      "metadata": {
        "id": "9Wpr8msLG_Re",
        "outputId": "a701e312-45a7-4db7-8a6d-a823132ff774"
      },
      "outputs": [
        {
          "data": {
            "text/plain": [
              "array([0.68999746, 0.29823347, 0.40456263, 0.5447324 , 0.36319918,\n",
              "       0.0477836 , 0.17342884, 0.1736493 , 0.00137678, 0.88360679])"
            ]
          },
          "execution_count": 11,
          "metadata": {},
          "output_type": "execute_result"
        }
      ],
      "source": [
        "np.minimum(x,y)"
      ]
    },
    {
      "cell_type": "code",
      "execution_count": null,
      "metadata": {
        "id": "kfC7ZKzdG_Rf",
        "outputId": "9839d926-486e-4990-97d2-a875b055256a"
      },
      "outputs": [
        {
          "data": {
            "text/plain": [
              "array([[ 0.42773586, -0.51454068,  0.44627383, -0.50558031,  2.21097026],\n",
              "       [-0.2200519 ,  0.10215365, -2.39461396, -0.67145485, -0.85246024],\n",
              "       [-1.35423039,  0.35054668, -1.18923023, -2.28375327, -0.06880164],\n",
              "       [-0.24302008,  0.68764354, -1.06211358,  0.00390069,  0.69333203],\n",
              "       [-0.67856939, -0.7261563 ,  0.48431421, -0.87401376,  0.12801282],\n",
              "       [-0.14920468,  0.65863312,  0.96376887, -0.84586193,  0.69100339]])"
            ]
          },
          "execution_count": 12,
          "metadata": {},
          "output_type": "execute_result"
        }
      ],
      "source": [
        "arr2 = np.random.randn(6,5)\n",
        "arr2"
      ]
    },
    {
      "cell_type": "code",
      "execution_count": null,
      "metadata": {
        "id": "OMHfh-TyG_Rg",
        "outputId": "a9a60b40-779a-442d-de9c-e0811fd04e5f"
      },
      "outputs": [
        {
          "data": {
            "text/plain": [
              "-6.78536824326487"
            ]
          },
          "execution_count": 13,
          "metadata": {},
          "output_type": "execute_result"
        }
      ],
      "source": [
        "arr2.sum()"
      ]
    },
    {
      "cell_type": "code",
      "execution_count": null,
      "metadata": {
        "id": "ddiv6RFSG_Rh",
        "outputId": "8192f14f-b1e9-4e30-88bd-69f8bd0ed97a"
      },
      "outputs": [
        {
          "data": {
            "text/plain": [
              "array([-2.21734058,  0.55828   , -2.75160085, -5.17676343,  2.80205661])"
            ]
          },
          "execution_count": 14,
          "metadata": {},
          "output_type": "execute_result"
        }
      ],
      "source": [
        "arr2.sum(axis=0)"
      ]
    },
    {
      "cell_type": "code",
      "execution_count": null,
      "metadata": {
        "id": "GPr1tujMG_Ri",
        "outputId": "3d5f015b-daec-46d6-f00b-04cddd3ce082"
      },
      "outputs": [
        {
          "data": {
            "text/plain": [
              "array([ 2.06485896, -4.03642731, -4.54546885,  0.0797426 , -1.66641242,\n",
              "        1.31833876])"
            ]
          },
          "execution_count": 15,
          "metadata": {},
          "output_type": "execute_result"
        }
      ],
      "source": [
        "arr2.sum(axis=1)"
      ]
    },
    {
      "cell_type": "code",
      "execution_count": null,
      "metadata": {
        "collapsed": true,
        "id": "FXPjRPivG_Ri"
      },
      "outputs": [],
      "source": [
        "arr3 = np.random.randn(7)"
      ]
    },
    {
      "cell_type": "code",
      "execution_count": null,
      "metadata": {
        "id": "o7RgWb5_G_Rj",
        "outputId": "5761a85a-da77-4159-bee8-5418910dd5ee"
      },
      "outputs": [
        {
          "data": {
            "text/plain": [
              "array([-0.36331144, -0.46785261, -0.84464839, -0.08542202, -0.94943851,\n",
              "       -1.69858629,  1.62700066])"
            ]
          },
          "execution_count": 17,
          "metadata": {},
          "output_type": "execute_result"
        }
      ],
      "source": [
        "arr3"
      ]
    },
    {
      "cell_type": "code",
      "execution_count": null,
      "metadata": {
        "collapsed": true,
        "id": "kb_UcRJ2G_Rj"
      },
      "outputs": [],
      "source": [
        "arr3.sort()"
      ]
    },
    {
      "cell_type": "code",
      "execution_count": null,
      "metadata": {
        "id": "HbPvXdp1G_Rj",
        "outputId": "16324970-4e05-4b4d-b442-d418a2a6b1ac"
      },
      "outputs": [
        {
          "data": {
            "text/plain": [
              "array([-1.69858629, -0.94943851, -0.84464839, -0.46785261, -0.36331144,\n",
              "       -0.08542202,  1.62700066])"
            ]
          },
          "execution_count": 19,
          "metadata": {},
          "output_type": "execute_result"
        }
      ],
      "source": [
        "arr3"
      ]
    },
    {
      "cell_type": "code",
      "execution_count": null,
      "metadata": {
        "collapsed": true,
        "id": "VDbipzJBG_Rj"
      },
      "outputs": [],
      "source": [
        "arr4 = np.random.randn(5,3)"
      ]
    },
    {
      "cell_type": "code",
      "execution_count": null,
      "metadata": {
        "id": "cFpTtsCPG_Rk",
        "outputId": "8fb072a8-4679-4a46-c34f-41e092bc4948"
      },
      "outputs": [
        {
          "data": {
            "text/plain": [
              "array([[ 8.42754197e-01, -2.05522098e-01,  1.03970335e+00],\n",
              "       [ 1.98088034e-01, -1.02955126e-03,  3.19913083e-01],\n",
              "       [-6.81520299e-01,  1.16291893e+00, -1.19308267e+00],\n",
              "       [ 1.03842729e+00,  5.00703174e-01,  2.16356934e+00],\n",
              "       [-8.99851304e-01, -4.66031031e-01,  2.22626097e+00]])"
            ]
          },
          "execution_count": 21,
          "metadata": {},
          "output_type": "execute_result"
        }
      ],
      "source": [
        "arr4"
      ]
    },
    {
      "cell_type": "code",
      "execution_count": null,
      "metadata": {
        "id": "tSCVybyvG_Rk",
        "outputId": "3d60b2d2-8e69-4b9d-fc2e-751c01453cae"
      },
      "outputs": [
        {
          "data": {
            "text/plain": [
              "array([[-8.99851304e-01, -4.66031031e-01, -1.19308267e+00],\n",
              "       [-6.81520299e-01, -2.05522098e-01,  3.19913083e-01],\n",
              "       [ 1.98088034e-01, -1.02955126e-03,  1.03970335e+00],\n",
              "       [ 8.42754197e-01,  5.00703174e-01,  2.16356934e+00],\n",
              "       [ 1.03842729e+00,  1.16291893e+00,  2.22626097e+00]])"
            ]
          },
          "execution_count": 22,
          "metadata": {},
          "output_type": "execute_result"
        }
      ],
      "source": [
        "np.sort(arr4, axis=0)"
      ]
    },
    {
      "cell_type": "code",
      "execution_count": null,
      "metadata": {
        "id": "KE8Z9lnhG_Rl",
        "outputId": "8923335a-ec36-42dd-de1a-5e7369c24b1a"
      },
      "outputs": [
        {
          "data": {
            "text/plain": [
              "array([[-2.05522098e-01,  8.42754197e-01,  1.03970335e+00],\n",
              "       [-1.02955126e-03,  1.98088034e-01,  3.19913083e-01],\n",
              "       [-1.19308267e+00, -6.81520299e-01,  1.16291893e+00],\n",
              "       [ 5.00703174e-01,  1.03842729e+00,  2.16356934e+00],\n",
              "       [-8.99851304e-01, -4.66031031e-01,  2.22626097e+00]])"
            ]
          },
          "execution_count": 23,
          "metadata": {},
          "output_type": "execute_result"
        }
      ],
      "source": [
        "np.sort(arr4, axis=1)"
      ]
    }
  ],
  "metadata": {
    "kernelspec": {
      "display_name": "Python 3",
      "language": "python",
      "name": "python3"
    },
    "language_info": {
      "codemirror_mode": {
        "name": "ipython",
        "version": 3
      },
      "file_extension": ".py",
      "mimetype": "text/x-python",
      "name": "python",
      "nbconvert_exporter": "python",
      "pygments_lexer": "ipython3",
      "version": "3.6.3"
    },
    "colab": {
      "name": "numpy_practice_2.ipynb",
      "provenance": [],
      "include_colab_link": true
    }
  },
  "nbformat": 4,
  "nbformat_minor": 0
}