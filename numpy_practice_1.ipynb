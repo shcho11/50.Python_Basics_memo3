{
  "cells": [
    {
      "cell_type": "markdown",
      "metadata": {
        "id": "view-in-github",
        "colab_type": "text"
      },
      "source": [
        "<a href=\"https://colab.research.google.com/github/shcho11/Python_Basics_memo3/blob/main/numpy_practice_1.ipynb\" target=\"_parent\"><img src=\"https://colab.research.google.com/assets/colab-badge.svg\" alt=\"Open In Colab\"/></a>"
      ]
    },
    {
      "cell_type": "markdown",
      "metadata": {
        "id": "7Yk64TDLFmJQ"
      },
      "source": [
        "### Numpy 기초"
      ]
    },
    {
      "cell_type": "code",
      "execution_count": null,
      "metadata": {
        "collapsed": true,
        "id": "mWozChesFmJU"
      },
      "outputs": [],
      "source": [
        "import numpy as np"
      ]
    },
    {
      "cell_type": "code",
      "execution_count": null,
      "metadata": {
        "collapsed": true,
        "id": "JRZc_9SXFmJV"
      },
      "outputs": [],
      "source": [
        "data1 = [10,9.9,9.8,10,10]"
      ]
    },
    {
      "cell_type": "code",
      "execution_count": null,
      "metadata": {
        "collapsed": true,
        "id": "CNRiBrENFmJW"
      },
      "outputs": [],
      "source": [
        "arr1 = np.array(data1)"
      ]
    },
    {
      "cell_type": "code",
      "execution_count": null,
      "metadata": {
        "id": "Adv_PzweFmJW",
        "outputId": "739c4a49-cda4-4e32-a811-cf0298ab21c8"
      },
      "outputs": [
        {
          "data": {
            "text/plain": [
              "array([10. ,  9.9,  9.8, 10. , 10. ])"
            ]
          },
          "execution_count": 4,
          "metadata": {},
          "output_type": "execute_result"
        }
      ],
      "source": [
        "arr1"
      ]
    },
    {
      "cell_type": "code",
      "execution_count": null,
      "metadata": {
        "id": "Z64XPDWwFmJX",
        "outputId": "748fbf4f-b49d-4d01-a8c5-dd3fc82a7a46"
      },
      "outputs": [
        {
          "data": {
            "text/plain": [
              "dtype('float64')"
            ]
          },
          "execution_count": 10,
          "metadata": {},
          "output_type": "execute_result"
        }
      ],
      "source": [
        "arr1.dtype"
      ]
    },
    {
      "cell_type": "code",
      "execution_count": null,
      "metadata": {
        "id": "UC9ZNKHJFmJX",
        "outputId": "5fc0e813-006e-4714-d091-c653e9a8b960"
      },
      "outputs": [
        {
          "data": {
            "text/plain": [
              "numpy.ndarray"
            ]
          },
          "execution_count": 5,
          "metadata": {},
          "output_type": "execute_result"
        }
      ],
      "source": [
        "type(arr1)"
      ]
    },
    {
      "cell_type": "code",
      "execution_count": null,
      "metadata": {
        "id": "wCaXeDYqFmJY",
        "outputId": "2b402c4a-2fc2-460c-df3d-662a50345641"
      },
      "outputs": [
        {
          "data": {
            "text/plain": [
              "array([[0., 0., 0., 0., 0.],\n",
              "       [0., 0., 0., 0., 0.],\n",
              "       [0., 0., 0., 0., 0.]])"
            ]
          },
          "execution_count": 6,
          "metadata": {},
          "output_type": "execute_result"
        }
      ],
      "source": [
        "np.zeros((3,5))"
      ]
    },
    {
      "cell_type": "code",
      "execution_count": null,
      "metadata": {
        "id": "YhEqVlyFFmJZ",
        "outputId": "a507e15c-40b6-4cda-c750-cb0de0620c0e"
      },
      "outputs": [
        {
          "data": {
            "text/plain": [
              "array([0., 0., 0., 0., 0.])"
            ]
          },
          "execution_count": 9,
          "metadata": {},
          "output_type": "execute_result"
        }
      ],
      "source": [
        "np.zeros(5)"
      ]
    },
    {
      "cell_type": "code",
      "execution_count": null,
      "metadata": {
        "id": "-VaM6bLcFmJZ",
        "outputId": "ff1be928-c3eb-4f7c-d1f9-fb74c39e0094"
      },
      "outputs": [
        {
          "data": {
            "text/plain": [
              "array([1., 1., 1., 1., 1.])"
            ]
          },
          "execution_count": 8,
          "metadata": {},
          "output_type": "execute_result"
        }
      ],
      "source": [
        "np.ones(5)"
      ]
    },
    {
      "cell_type": "code",
      "execution_count": null,
      "metadata": {
        "collapsed": true,
        "id": "nCgkPhhmFmJa"
      },
      "outputs": [],
      "source": [
        "data2 = [[1,2,3,4],[5,6,7,8]]"
      ]
    },
    {
      "cell_type": "code",
      "execution_count": null,
      "metadata": {
        "id": "86jqpNahFmJa",
        "outputId": "adfb0742-dff3-44c8-dfd8-ef9828e00aa8"
      },
      "outputs": [
        {
          "data": {
            "text/plain": [
              "[[1, 2, 3, 4], [5, 6, 7, 8]]"
            ]
          },
          "execution_count": 12,
          "metadata": {},
          "output_type": "execute_result"
        }
      ],
      "source": [
        "data2"
      ]
    },
    {
      "cell_type": "code",
      "execution_count": null,
      "metadata": {
        "collapsed": true,
        "id": "1j9NQ26QFmJa"
      },
      "outputs": [],
      "source": [
        "arr2 = np.array(data2)"
      ]
    },
    {
      "cell_type": "code",
      "execution_count": null,
      "metadata": {
        "id": "E0Y353fOFmJb",
        "outputId": "79588223-2df2-4287-a67a-fc4b7fed7c0f"
      },
      "outputs": [
        {
          "data": {
            "text/plain": [
              "array([[1, 2, 3, 4],\n",
              "       [5, 6, 7, 8]])"
            ]
          },
          "execution_count": 14,
          "metadata": {},
          "output_type": "execute_result"
        }
      ],
      "source": [
        "arr2"
      ]
    },
    {
      "cell_type": "code",
      "execution_count": null,
      "metadata": {
        "id": "986ItaugFmJb",
        "outputId": "85611aae-f316-47c8-fb2f-fb3774181a15"
      },
      "outputs": [
        {
          "data": {
            "text/plain": [
              "dtype('int32')"
            ]
          },
          "execution_count": 15,
          "metadata": {},
          "output_type": "execute_result"
        }
      ],
      "source": [
        "arr2.dtype"
      ]
    },
    {
      "cell_type": "code",
      "execution_count": null,
      "metadata": {
        "id": "_HR4CdSOFmJb"
      },
      "outputs": [],
      "source": [
        "arr3 = np.arange(10) #np.arange(0,10,1)"
      ]
    },
    {
      "cell_type": "code",
      "execution_count": null,
      "metadata": {
        "id": "TstooK7GFmJb",
        "outputId": "a76e2f92-ae10-4167-9fdd-6c4dd69de70b"
      },
      "outputs": [
        {
          "data": {
            "text/plain": [
              "array([0, 1, 2, 3, 4, 5, 6, 7, 8, 9])"
            ]
          },
          "execution_count": 18,
          "metadata": {},
          "output_type": "execute_result"
        }
      ],
      "source": [
        "arr3"
      ]
    },
    {
      "cell_type": "code",
      "execution_count": null,
      "metadata": {
        "id": "GdLtvspzFmJc",
        "outputId": "4c6eed22-ead9-477b-dd6f-32e6fe5fd00b"
      },
      "outputs": [
        {
          "data": {
            "text/plain": [
              "numpy.ndarray"
            ]
          },
          "execution_count": 19,
          "metadata": {},
          "output_type": "execute_result"
        }
      ],
      "source": [
        "type(arr3)"
      ]
    },
    {
      "cell_type": "code",
      "execution_count": null,
      "metadata": {
        "id": "Q38AF6z8FmJc",
        "outputId": "f7e7181f-64b8-4377-f8c8-0421adcb60b9"
      },
      "outputs": [
        {
          "data": {
            "text/plain": [
              "list"
            ]
          },
          "execution_count": 25,
          "metadata": {},
          "output_type": "execute_result"
        }
      ],
      "source": [
        "type(data2)"
      ]
    },
    {
      "cell_type": "code",
      "execution_count": null,
      "metadata": {
        "collapsed": true,
        "id": "9FWK9NP3FmJc"
      },
      "outputs": [],
      "source": [
        "arr = np.array([1,2,3,4,5], dtype=np.int64)"
      ]
    },
    {
      "cell_type": "code",
      "execution_count": null,
      "metadata": {
        "id": "se_KlOKGFmJd",
        "outputId": "3848db22-c53c-484c-d6a1-8ae07bbc4625"
      },
      "outputs": [
        {
          "data": {
            "text/plain": [
              "array([1, 2, 3, 4, 5], dtype=int64)"
            ]
          },
          "execution_count": 27,
          "metadata": {},
          "output_type": "execute_result"
        }
      ],
      "source": [
        "arr"
      ]
    },
    {
      "cell_type": "code",
      "execution_count": null,
      "metadata": {
        "id": "RAsVIxpqFmJd",
        "outputId": "ade61f12-5141-4605-a21c-66fac3ca7572"
      },
      "outputs": [
        {
          "data": {
            "text/plain": [
              "dtype('int64')"
            ]
          },
          "execution_count": 28,
          "metadata": {},
          "output_type": "execute_result"
        }
      ],
      "source": [
        "arr.dtype"
      ]
    },
    {
      "cell_type": "code",
      "execution_count": null,
      "metadata": {
        "collapsed": true,
        "id": "pD8urHkHFmJd"
      },
      "outputs": [],
      "source": [
        "floar_arr = arr.astype(np.float32)"
      ]
    },
    {
      "cell_type": "code",
      "execution_count": null,
      "metadata": {
        "id": "gYw_S63pFmJd",
        "outputId": "824e4155-690a-447b-fdf8-030757ca5714"
      },
      "outputs": [
        {
          "data": {
            "text/plain": [
              "array([1., 2., 3., 4., 5.], dtype=float32)"
            ]
          },
          "execution_count": 30,
          "metadata": {},
          "output_type": "execute_result"
        }
      ],
      "source": [
        "floar_arr"
      ]
    },
    {
      "cell_type": "code",
      "execution_count": null,
      "metadata": {
        "collapsed": true,
        "id": "exomq24fFmJd"
      },
      "outputs": [],
      "source": [
        "arr1 = np.array([[1,2,3],[4,5,6]], dtype=np.float64)"
      ]
    },
    {
      "cell_type": "code",
      "execution_count": null,
      "metadata": {
        "id": "E0PdzYmqFmJe",
        "outputId": "b36b42d7-fb71-4074-dab4-5620bc369696"
      },
      "outputs": [
        {
          "data": {
            "text/plain": [
              "array([[1., 2., 3.],\n",
              "       [4., 5., 6.]])"
            ]
          },
          "execution_count": 36,
          "metadata": {},
          "output_type": "execute_result"
        }
      ],
      "source": [
        "arr1"
      ]
    },
    {
      "cell_type": "code",
      "execution_count": null,
      "metadata": {
        "collapsed": true,
        "id": "A6pK-wsVFmJe"
      },
      "outputs": [],
      "source": [
        "arr2 = np.array([[10,20,30],[40,50,60]], dtype=np.float64) "
      ]
    },
    {
      "cell_type": "code",
      "execution_count": null,
      "metadata": {
        "id": "QAW-mEdyFmJe",
        "outputId": "3db31f88-f947-4c54-94a8-2ad37adbeeab"
      },
      "outputs": [
        {
          "data": {
            "text/plain": [
              "array([[10., 20., 30.],\n",
              "       [40., 50., 60.]])"
            ]
          },
          "execution_count": 35,
          "metadata": {},
          "output_type": "execute_result"
        }
      ],
      "source": [
        "arr2"
      ]
    },
    {
      "cell_type": "code",
      "execution_count": null,
      "metadata": {
        "id": "OWoU2kiHFmJe",
        "outputId": "fabe6a25-3439-4963-aeb7-a149d69ad72a"
      },
      "outputs": [
        {
          "data": {
            "text/plain": [
              "array([[11., 22., 33.],\n",
              "       [44., 55., 66.]])"
            ]
          },
          "execution_count": 37,
          "metadata": {},
          "output_type": "execute_result"
        }
      ],
      "source": [
        "arr1 + arr2"
      ]
    },
    {
      "cell_type": "code",
      "execution_count": null,
      "metadata": {
        "id": "MelOGFaVFmJe",
        "outputId": "d182a1c0-0f63-4627-b0f1-52913d53ccf2"
      },
      "outputs": [
        {
          "data": {
            "text/plain": [
              "array([[ 10.,  40.,  90.],\n",
              "       [160., 250., 360.]])"
            ]
          },
          "execution_count": 38,
          "metadata": {},
          "output_type": "execute_result"
        }
      ],
      "source": [
        "arr1 * arr2"
      ]
    },
    {
      "cell_type": "code",
      "execution_count": null,
      "metadata": {
        "id": "_mlSYm1FFmJe",
        "outputId": "be4a2594-a75e-46e2-ee18-9ba6018e0d4f"
      },
      "outputs": [
        {
          "data": {
            "text/plain": [
              "array([[ 2.,  4.,  6.],\n",
              "       [ 8., 10., 12.]])"
            ]
          },
          "execution_count": 39,
          "metadata": {},
          "output_type": "execute_result"
        }
      ],
      "source": [
        "#벡터와 스칼라간의 곱 연산\n",
        "arr1 * 2"
      ]
    },
    {
      "cell_type": "code",
      "execution_count": null,
      "metadata": {
        "id": "vH_atRYHFmJf",
        "outputId": "a3b09bfd-d9e6-4fa1-f324-915ab9f75035"
      },
      "outputs": [
        {
          "data": {
            "text/plain": [
              "array([[ 1.,  4.,  9.],\n",
              "       [16., 25., 36.]])"
            ]
          },
          "execution_count": 40,
          "metadata": {},
          "output_type": "execute_result"
        }
      ],
      "source": [
        "arr1 **2"
      ]
    },
    {
      "cell_type": "code",
      "execution_count": null,
      "metadata": {
        "collapsed": true,
        "id": "tQp0HuvzFmJf"
      },
      "outputs": [],
      "source": [
        "names = np.array(['cho','song','hyun','david','jonathan'])"
      ]
    },
    {
      "cell_type": "code",
      "execution_count": null,
      "metadata": {
        "id": "Kk1lQCrfFmJf",
        "outputId": "0930584f-971d-4b44-8c13-f49e7f8d3d42"
      },
      "outputs": [
        {
          "data": {
            "text/plain": [
              "array(['cho', 'song', 'hyun', 'david', 'jonathan'], dtype='<U8')"
            ]
          },
          "execution_count": 42,
          "metadata": {},
          "output_type": "execute_result"
        }
      ],
      "source": [
        "names"
      ]
    },
    {
      "cell_type": "code",
      "execution_count": null,
      "metadata": {
        "id": "qz64W6oCFmJf",
        "outputId": "f904bb98-db68-4ad5-e2f7-a77c3725c305"
      },
      "outputs": [
        {
          "data": {
            "text/plain": [
              "dtype('<U8')"
            ]
          },
          "execution_count": 43,
          "metadata": {},
          "output_type": "execute_result"
        }
      ],
      "source": [
        "names.dtype"
      ]
    },
    {
      "cell_type": "code",
      "execution_count": null,
      "metadata": {
        "id": "s9ZKh5zmFmJf",
        "outputId": "dd8cbea4-2383-407c-aefe-2b673a3fce56"
      },
      "outputs": [
        {
          "data": {
            "text/plain": [
              "numpy.ndarray"
            ]
          },
          "execution_count": 44,
          "metadata": {},
          "output_type": "execute_result"
        }
      ],
      "source": [
        "type(names)"
      ]
    },
    {
      "cell_type": "code",
      "execution_count": null,
      "metadata": {
        "collapsed": true,
        "id": "P35xtXD-FmJg"
      },
      "outputs": [],
      "source": [
        "data = np.random.randn(5,4)"
      ]
    },
    {
      "cell_type": "code",
      "execution_count": null,
      "metadata": {
        "id": "KpR-tToiFmJg",
        "outputId": "b8c90d55-6721-4a4a-d1da-214e58443632"
      },
      "outputs": [
        {
          "data": {
            "text/plain": [
              "array([[ 0.01667481,  0.2455534 ,  0.19498008,  2.14069993],\n",
              "       [-1.97843017, -0.64805707, -0.25169907, -0.41253017],\n",
              "       [ 1.79925581, -1.38057416, -0.37279094, -0.82383843],\n",
              "       [ 0.79799895, -0.28263644, -2.01753511,  1.20390434],\n",
              "       [ 0.18333869, -1.03648016,  0.17967482,  0.61383149]])"
            ]
          },
          "execution_count": 51,
          "metadata": {},
          "output_type": "execute_result"
        }
      ],
      "source": [
        "data"
      ]
    },
    {
      "cell_type": "code",
      "execution_count": null,
      "metadata": {
        "id": "zoQ4F6FbFmJg",
        "outputId": "48c55b22-9245-4dbe-ac0c-c578c8ea7092"
      },
      "outputs": [
        {
          "data": {
            "text/plain": [
              "array([False,  True, False, False, False])"
            ]
          },
          "execution_count": 52,
          "metadata": {},
          "output_type": "execute_result"
        }
      ],
      "source": [
        "names == 'song'"
      ]
    },
    {
      "cell_type": "code",
      "execution_count": null,
      "metadata": {
        "id": "NlqBe8iOFmJg",
        "outputId": "abaf3406-c84f-4e46-d2cd-aa080d16d90d"
      },
      "outputs": [
        {
          "data": {
            "text/plain": [
              "array([[-1.97843017, -0.64805707, -0.25169907, -0.41253017]])"
            ]
          },
          "execution_count": 53,
          "metadata": {},
          "output_type": "execute_result"
        }
      ],
      "source": [
        "data[names == 'song',:]"
      ]
    },
    {
      "cell_type": "code",
      "execution_count": null,
      "metadata": {
        "id": "GnEWn_iLFmJg",
        "outputId": "4ac83df5-b837-446f-8654-81aff716c3f1"
      },
      "outputs": [
        {
          "data": {
            "text/plain": [
              "array([[ 0.01667481,  0.2455534 ],\n",
              "       [-1.97843017, -0.64805707],\n",
              "       [ 1.79925581, -1.38057416],\n",
              "       [ 0.79799895, -0.28263644],\n",
              "       [ 0.18333869, -1.03648016]])"
            ]
          },
          "execution_count": 54,
          "metadata": {},
          "output_type": "execute_result"
        }
      ],
      "source": [
        "data[:,0:2]"
      ]
    },
    {
      "cell_type": "code",
      "execution_count": null,
      "metadata": {
        "id": "KGLu1xzDFmJg",
        "outputId": "12d6e1c3-caa6-481e-ce8c-f5ced1c6a17e"
      },
      "outputs": [
        {
          "data": {
            "text/plain": [
              "array([False,  True,  True, False, False])"
            ]
          },
          "execution_count": 55,
          "metadata": {},
          "output_type": "execute_result"
        }
      ],
      "source": [
        "data[:,3] < 0"
      ]
    },
    {
      "cell_type": "code",
      "execution_count": null,
      "metadata": {
        "id": "jjFpJy_jFmJh",
        "outputId": "bb36c2f2-490a-4168-dfcb-85f07df8cb5d"
      },
      "outputs": [
        {
          "data": {
            "text/plain": [
              "array([[-1.97843017, -0.64805707, -0.25169907, -0.41253017],\n",
              "       [ 1.79925581, -1.38057416, -0.37279094, -0.82383843]])"
            ]
          },
          "execution_count": 56,
          "metadata": {},
          "output_type": "execute_result"
        }
      ],
      "source": [
        "data[data[:,3] < 0, :]"
      ]
    },
    {
      "cell_type": "code",
      "execution_count": null,
      "metadata": {
        "collapsed": true,
        "id": "Avv-_DyFFmJh"
      },
      "outputs": [],
      "source": [
        "data[data[:,3] < 0, 3] = 0"
      ]
    },
    {
      "cell_type": "code",
      "execution_count": null,
      "metadata": {
        "id": "pymLIbHIFmJh",
        "outputId": "75fbde74-aa7b-4226-da8f-443f75e6e210"
      },
      "outputs": [
        {
          "data": {
            "text/plain": [
              "array([[ 0.01667481,  0.2455534 ,  0.19498008,  2.14069993],\n",
              "       [-1.97843017, -0.64805707, -0.25169907,  0.        ],\n",
              "       [ 1.79925581, -1.38057416, -0.37279094,  0.        ],\n",
              "       [ 0.79799895, -0.28263644, -2.01753511,  1.20390434],\n",
              "       [ 0.18333869, -1.03648016,  0.17967482,  0.61383149]])"
            ]
          },
          "execution_count": 58,
          "metadata": {},
          "output_type": "execute_result"
        }
      ],
      "source": [
        "data"
      ]
    },
    {
      "cell_type": "code",
      "execution_count": null,
      "metadata": {
        "collapsed": true,
        "id": "USH_HqkUFmJh"
      },
      "outputs": [],
      "source": [
        "c = np.array([1,2,3,4,5])\n",
        "d = np.array([6,7,8,9,10])"
      ]
    },
    {
      "cell_type": "code",
      "execution_count": null,
      "metadata": {
        "id": "v2acSouTFmJh",
        "outputId": "9b74d6c0-bf64-408b-ffcc-d398fdd787a4"
      },
      "outputs": [
        {
          "name": "stdout",
          "output_type": "stream",
          "text": [
            "[ 7  9 11 13 15]\n"
          ]
        }
      ],
      "source": [
        "print(c+d)"
      ]
    },
    {
      "cell_type": "code",
      "execution_count": null,
      "metadata": {
        "id": "OJmlHrruFmJh",
        "outputId": "c2ccaee6-a734-4385-c4f4-61ef4836b776"
      },
      "outputs": [
        {
          "data": {
            "text/plain": [
              "array([ 2,  4,  6,  8, 10])"
            ]
          },
          "execution_count": 61,
          "metadata": {},
          "output_type": "execute_result"
        }
      ],
      "source": [
        "c*2"
      ]
    },
    {
      "cell_type": "code",
      "execution_count": null,
      "metadata": {
        "id": "ngMdvdTGFmJi",
        "outputId": "0cd49e6b-a838-4665-8c7d-30d04ceac60b"
      },
      "outputs": [
        {
          "ename": "ValueError",
          "evalue": "operands could not be broadcast together with shapes (5,) (7,) ",
          "output_type": "error",
          "traceback": [
            "\u001b[1;31m---------------------------------------------------------------------------\u001b[0m",
            "\u001b[1;31mValueError\u001b[0m                                Traceback (most recent call last)",
            "\u001b[1;32m<ipython-input-62-02fd9e65a0e0>\u001b[0m in \u001b[0;36m<module>\u001b[1;34m()\u001b[0m\n\u001b[0;32m      2\u001b[0m \u001b[0me\u001b[0m \u001b[1;33m=\u001b[0m \u001b[0mnp\u001b[0m\u001b[1;33m.\u001b[0m\u001b[0marray\u001b[0m\u001b[1;33m(\u001b[0m\u001b[1;33m[\u001b[0m\u001b[1;36m1\u001b[0m\u001b[1;33m,\u001b[0m\u001b[1;36m2\u001b[0m\u001b[1;33m,\u001b[0m\u001b[1;36m3\u001b[0m\u001b[1;33m,\u001b[0m\u001b[1;36m4\u001b[0m\u001b[1;33m,\u001b[0m\u001b[1;36m5\u001b[0m\u001b[1;33m]\u001b[0m\u001b[1;33m)\u001b[0m\u001b[1;33m\u001b[0m\u001b[0m\n\u001b[0;32m      3\u001b[0m \u001b[0mf\u001b[0m \u001b[1;33m=\u001b[0m \u001b[0mnp\u001b[0m\u001b[1;33m.\u001b[0m\u001b[0marray\u001b[0m\u001b[1;33m(\u001b[0m\u001b[1;33m[\u001b[0m\u001b[1;36m6\u001b[0m\u001b[1;33m,\u001b[0m\u001b[1;36m7\u001b[0m\u001b[1;33m,\u001b[0m\u001b[1;36m8\u001b[0m\u001b[1;33m,\u001b[0m\u001b[1;36m9\u001b[0m\u001b[1;33m,\u001b[0m\u001b[1;36m10\u001b[0m\u001b[1;33m,\u001b[0m\u001b[1;36m11\u001b[0m\u001b[1;33m,\u001b[0m\u001b[1;36m12\u001b[0m\u001b[1;33m]\u001b[0m\u001b[1;33m)\u001b[0m\u001b[1;33m\u001b[0m\u001b[0m\n\u001b[1;32m----> 4\u001b[1;33m \u001b[0mprint\u001b[0m\u001b[1;33m(\u001b[0m\u001b[0me\u001b[0m\u001b[1;33m+\u001b[0m\u001b[0mf\u001b[0m\u001b[1;33m)\u001b[0m\u001b[1;33m\u001b[0m\u001b[0m\n\u001b[0m",
            "\u001b[1;31mValueError\u001b[0m: operands could not be broadcast together with shapes (5,) (7,) "
          ]
        }
      ],
      "source": [
        "#벡터의 차원이 다르면 연산이 안됨\n",
        "e = np.array([1,2,3,4,5])\n",
        "f = np.array([6,7,8,9,10,11,12])\n",
        "print(e+f)"
      ]
    }
  ],
  "metadata": {
    "kernelspec": {
      "display_name": "Python 3",
      "language": "python",
      "name": "python3"
    },
    "language_info": {
      "codemirror_mode": {
        "name": "ipython",
        "version": 3
      },
      "file_extension": ".py",
      "mimetype": "text/x-python",
      "name": "python",
      "nbconvert_exporter": "python",
      "pygments_lexer": "ipython3",
      "version": "3.6.3"
    },
    "colab": {
      "name": "numpy_practice_1.ipynb",
      "provenance": [],
      "include_colab_link": true
    }
  },
  "nbformat": 4,
  "nbformat_minor": 0
}